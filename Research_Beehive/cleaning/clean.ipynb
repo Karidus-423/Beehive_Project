{
 "cells": [
  {
   "cell_type": "markdown",
   "metadata": {},
   "source": [
    "### Remove y characters"
   ]
  },
  {
   "cell_type": "code",
   "execution_count": 1,
   "metadata": {},
   "outputs": [
    {
     "name": "stdout",
     "output_type": "stream",
     "text": [
      "Undesired characters removed from DATALOG.txt\n"
     ]
    }
   ],
   "source": [
    "with open('DATALOG.txt', 'rb') as file:\n",
    "    content_bytes = file.read()\n",
    "\n",
    "content = content_bytes.decode('utf-8', errors='ignore')\n",
    "\n",
    "cleaned_content = content.replace('�', '')\n",
    "\n",
    "with open('DATALOG.txt', 'wb') as file:\n",
    "    file.write(cleaned_content.encode('utf-8'))\n",
    "\n",
    "print(\"Undesired characters removed from DATALOG.txt\")\n"
   ]
  },
  {
   "cell_type": "markdown",
   "metadata": {},
   "source": [
    "\n",
    "### Find the Mean Value"
   ]
  },
  {
   "cell_type": "code",
   "execution_count": 2,
   "metadata": {},
   "outputs": [
    {
     "name": "stdout",
     "output_type": "stream",
     "text": [
      "Mean value of the column: 55.181777777777775\n"
     ]
    }
   ],
   "source": [
    "import pandas as pd\n",
    "df = pd.read_csv('datalog.csv')\n",
    "\n",
    "mean_value = df['Temp'].mean()\n",
    "\n",
    "print(\"Mean value of the column:\", mean_value)"
   ]
  },
  {
   "cell_type": "markdown",
   "metadata": {},
   "source": [
    "### Sorting"
   ]
  },
  {
   "cell_type": "code",
   "execution_count": 2,
   "metadata": {},
   "outputs": [
    {
     "name": "stdout",
     "output_type": "stream",
     "text": [
      "CSV file sorted and saved to ../sensor_data_hours_updated.csv\n"
     ]
    }
   ],
   "source": [
    "import pandas as pd\n",
    "\n",
    "csv_file = '../sensor_data_hours_updated.csv'\n",
    "sorted_csv_file = '../sensor_data_hours_updated.csv'\n",
    "\n",
    "df = pd.read_csv(csv_file)\n",
    "\n",
    "sorted_df = df.sort_values(by=['Timestamp'])\n",
    "\n",
    "sorted_df.to_csv(sorted_csv_file, index=False)\n",
    "\n",
    "print(f'CSV file sorted and saved to {sorted_csv_file}')\n",
    "\n"
   ]
  },
  {
   "cell_type": "markdown",
   "metadata": {},
   "source": [
    "### Turning data from Data Logger to Data Visualizer"
   ]
  },
  {
   "cell_type": "markdown",
   "metadata": {},
   "source": [
    "#### Translating sensor number"
   ]
  },
  {
   "cell_type": "code",
   "execution_count": 30,
   "metadata": {},
   "outputs": [],
   "source": [
    "import pandas as pd\n",
    "\n",
    "# Dictionary of sensor numbers and their corresponding coordinates\n",
    "sensor_coordinates = {\n",
    "    'S_1': (0, 0, 3),\n",
    "    'S_2': (1, 0, 1),\n",
    "    'S_3': (2, 0, 3),\n",
    "    'S_4': (3, 0, 1),\n",
    "    'S_5': (0, 1, 1),\n",
    "    'S_6': (1, 1, 3),\n",
    "    'S_7': (2, 1, 1),\n",
    "    'S_8': (3, 1, 3),\n",
    "    'S_9': (0, 2, 3),\n",
    "    'S_10': (1, 2, 1),\n",
    "    'S_11': (2, 2, 3),\n",
    "    'S_12': (3, 2, 4),\n",
    "    'S_13': (0, 3, 1),\n",
    "    'S_14': (1, 3, 3),\n",
    "    'S_15': (2, 3, 1),\n",
    "    'S_16': (3, 3, 3),\n",
    "    'S_17': (0, 4, 3),\n",
    "    'S_18': (1, 4, 1),\n",
    "    'S_19': (2, 4, 3),\n",
    "    'S_20': (3, 4, 1)\n",
    "}\n",
    "\n",
    "def calculate_true_sensor(sensor_number):\n",
    "    return int(sensor_number.split('_')[1])\n",
    "\n",
    "df = pd.read_csv('datalog.csv', delimiter=',')\n",
    "\n",
    "df['X'] = pd.Series(dtype=int)\n",
    "df['Y'] = pd.Series(dtype=int)\n",
    "df['Z'] = pd.Series(dtype=int)\n",
    "\n",
    "for sensor_number, (X, Y, Z) in sensor_coordinates.items():\n",
    "    true_sensor_number = calculate_true_sensor(sensor_number)\n",
    "    df.loc[df['Sensor_Number'] == true_sensor_number, ['X', 'Y', 'Z']] = [X, Y, Z]\n",
    "\n",
    "df.drop(columns=['Sensor_Number'], inplace=True)\n",
    "\n",
    "df.to_csv('new_datalog_with_coordinates.csv', index=False)\n",
    "\n"
   ]
  },
  {
   "cell_type": "markdown",
   "metadata": {},
   "source": [
    "#### Add coordinate to sensor number"
   ]
  },
  {
   "cell_type": "code",
   "execution_count": 46,
   "metadata": {},
   "outputs": [],
   "source": [
    "import csv\n",
    "\n",
    "# Dictionary containing coordinates for each sensor number\n",
    "sensor_coordinates = {\n",
    "    '1': (0, 0, 3),\n",
    "    '2': (1, 0, 1),\n",
    "    '3': (2, 0, 3),\n",
    "    '4': (3, 0, 1),\n",
    "    '5': (0, 1, 1),\n",
    "    '6': (1, 1, 3),\n",
    "    '7': (2, 1, 1),\n",
    "    '8': (3, 1, 3),\n",
    "    '9': (0, 2, 3),\n",
    "    '10': (1, 2, 1),\n",
    "    '11': (2, 2, 3),\n",
    "    '12': (3, 2, 1),\n",
    "    '13': (0, 3, 1),\n",
    "    '14': (1, 3, 3),\n",
    "    '15': (2, 3, 1),\n",
    "    '16': (3, 3, 3),\n",
    "    '17': (0, 4, 3),\n",
    "    '18': (1, 4, 1),\n",
    "    '19': (2, 4, 3),\n",
    "    '20': (3, 4, 1)\n",
    "}\n",
    "\n",
    "# Function to add coordinates to each row of the CSV file\n",
    "def add_coordinates_to_csv(input_file, output_file):\n",
    "    with open(input_file, 'r') as infile, open(output_file, 'w', newline='') as outfile:\n",
    "        reader = csv.reader(infile)\n",
    "        writer = csv.writer(outfile)\n",
    "\n",
    "        # Write header\n",
    "        writer.writerow(['Sensor_Number', 'Temp', 'Date', 'X', 'Y', 'Z'])\n",
    "\n",
    "        # Iterate through each row\n",
    "        for row in reader:\n",
    "            sensor_number = row[0]\n",
    "            if sensor_number.isdigit():  # Check if the row is not the header\n",
    "                coordinates = sensor_coordinates.get(sensor_number)\n",
    "                if coordinates:\n",
    "                    writer.writerow(row + list(coordinates))\n",
    "\n",
    "# Usage\n",
    "add_coordinates_to_csv('slave_removed.csv', 'output_with_coordinates.csv')\n"
   ]
  },
  {
   "cell_type": "markdown",
   "metadata": {},
   "source": [
    "#### Split timestamp into separate columns"
   ]
  },
  {
   "cell_type": "code",
   "execution_count": 47,
   "metadata": {},
   "outputs": [],
   "source": [
    "import pandas as pd\n",
    "\n",
    "# Read the CSV file\n",
    "df = pd.read_csv(\"output_with_coordinates.csv\")\n",
    "\n",
    "# Remove leading and trailing whitespace from the 'Date' column\n",
    "df['Date'] = df['Date'].str.strip()\n",
    "\n",
    "# Parse the original date string into a datetime object\n",
    "df['Date'] = pd.to_datetime(df['Date'], format='%d.%m.%Y %H:%M:%S')\n",
    "\n",
    "# Extract year, month, day, hour, minute, and second into separate columns\n",
    "df['Year'] = df['Date'].dt.year\n",
    "df['Month'] = df['Date'].dt.month\n",
    "df['Day'] = df['Date'].dt.day\n",
    "df['Hour'] = df['Date'].dt.hour\n",
    "df['Minute'] = df['Date'].dt.minute\n",
    "df['Second'] = df['Date'].dt.second\n",
    "\n",
    "# Rearrange the columns as needed\n",
    "df = df[['Sensor_Number','X','Y','Z','Year','Month','Day','Hour','Minute','Second','Temp','Date']]\n",
    "df = df.rename(columns={'Sensor_Number':'Sensor_number','Date':'Timestamp','Temp':'Temperature'})\n",
    "\n",
    "# Save the modified DataFrame to a new CSV file\n",
    "df.to_csv(\"modified_file.csv\", index=False)\n"
   ]
  },
  {
   "cell_type": "markdown",
   "metadata": {},
   "source": [
    "### Clean minutes and seconds"
   ]
  },
  {
   "cell_type": "code",
   "execution_count": 45,
   "metadata": {},
   "outputs": [],
   "source": [
    "import pandas as pd\n",
    "\n",
    "# Read the CSV file\n",
    "df = pd.read_csv(\"modified_file.csv\")\n",
    "\n",
    "# Pad minute and second columns with leading zeros\n",
    "df['Minute'] = df['Minute'].apply(lambda x: '{:02d}'.format(x))\n",
    "df['Second'] = df['Second'].apply(lambda x: '{:02d}'.format(x))\n",
    "\n",
    "# Pad timestamp column with leading zeros for minute and second\n",
    "df['Timestamp'] = pd.to_datetime(df['Timestamp'])\n",
    "df['Timestamp'] = df['Timestamp'].dt.strftime('%Y-%m-%d %H:%M:%S')\n",
    "\n",
    "# Write the updated DataFrame back to a CSV file\n",
    "df.to_csv(\"cleared_ms.csv\", index=False)\n"
   ]
  }
 ],
 "metadata": {
  "kernelspec": {
   "display_name": "digitalrendering",
   "language": "python",
   "name": "python3"
  },
  "language_info": {
   "codemirror_mode": {
    "name": "ipython",
    "version": 3
   },
   "file_extension": ".py",
   "mimetype": "text/x-python",
   "name": "python",
   "nbconvert_exporter": "python",
   "pygments_lexer": "ipython3",
   "version": "3.11.6"
  }
 },
 "nbformat": 4,
 "nbformat_minor": 2
}
